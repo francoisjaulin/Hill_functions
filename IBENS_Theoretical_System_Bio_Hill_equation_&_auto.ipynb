{
  "nbformat": 4,
  "nbformat_minor": 0,
  "metadata": {
    "colab": {
      "name": "IBENS - Theoretical System Bio - Hill equation & auto",
      "version": "0.3.2",
      "provenance": [],
      "include_colab_link": true
    },
    "kernelspec": {
      "name": "python2",
      "display_name": "Python 2"
    }
  },
  "cells": [
    {
      "cell_type": "markdown",
      "metadata": {
        "id": "view-in-github",
        "colab_type": "text"
      },
      "source": [
        "<a href=\"https://colab.research.google.com/github/francoisjaulin/Hill_functions/blob/master/IBENS_Theoretical_System_Bio_Hill_equation_&_auto.ipynb\" target=\"_parent\"><img src=\"https://colab.research.google.com/assets/colab-badge.svg\" alt=\"Open In Colab\"/></a>"
      ]
    },
    {
      "metadata": {
        "id": "bkCzsyTGHdAN",
        "colab_type": "text"
      },
      "cell_type": "markdown",
      "source": [
        "Packages Importation"
      ]
    },
    {
      "metadata": {
        "id": "3X22lBJfHdZp",
        "colab_type": "code",
        "colab": {}
      },
      "cell_type": "code",
      "source": [
        "import matplotlib\n",
        "import matplotlib.pyplot as plt\n",
        "import numpy as np"
      ],
      "execution_count": 0,
      "outputs": []
    },
    {
      "metadata": {
        "id": "YGbbDK_dIEj9",
        "colab_type": "code",
        "colab": {
          "base_uri": "https://localhost:8080/",
          "height": 34
        },
        "outputId": "4cbcf35e-3eaa-41c5-ca21-9d56886339f6"
      },
      "cell_type": "code",
      "source": [
        "print\"Hello world\""
      ],
      "execution_count": 4,
      "outputs": [
        {
          "output_type": "stream",
          "text": [
            "Hello world\n"
          ],
          "name": "stdout"
        }
      ]
    },
    {
      "metadata": {
        "id": "77VNyLGoIgVU",
        "colab_type": "text"
      },
      "cell_type": "markdown",
      "source": [
        "Definition of a Hill function\n",
        "A : concentration"
      ]
    },
    {
      "metadata": {
        "id": "t-9dF9lnIoLO",
        "colab_type": "code",
        "colab": {
          "base_uri": "https://localhost:8080/",
          "height": 51
        },
        "outputId": "c525dde9-44f9-488a-b4b7-cbaa6c6bd64e"
      },
      "cell_type": "code",
      "source": [
        "def hill(A):\n",
        "  h=2.0\n",
        "  A0=10\n",
        "  theta = A**h/(A0**h + A**h)\n",
        "  return theta\n",
        "\n",
        "print\"Hill function of concentration 1 =\", hill(1)\n",
        "print\"Hill function of concentration 100 = %.3f\" % hill(100)"
      ],
      "execution_count": 8,
      "outputs": [
        {
          "output_type": "stream",
          "text": [
            "Hill function of concentration 1 = 0.00990099009901\n",
            "Hill function of concentration 100 = 0.990\n"
          ],
          "name": "stdout"
        }
      ]
    },
    {
      "metadata": {
        "id": "rPTQnK0_KL2c",
        "colab_type": "code",
        "colab": {
          "base_uri": "https://localhost:8080/",
          "height": 4544
        },
        "outputId": "413214c2-6e97-4128-ea89-61da0c5c33d5"
      },
      "cell_type": "code",
      "source": [
        "concentrations= np.linspace(0,100,1000) #1000 euqally-spaced values between 0 and 100\n",
        "thetas=hill(concentrations)\n",
        "print(thetas)\n",
        "\n",
        "plt.figure(figsize=(4,4))\n",
        "plt.plot(concentrations, thetas)\n",
        "plt.xlabel('concentration A')\n",
        "plt.ylabel('$\\\\theta$')\n",
        "plt.axhline([0], color='black', linestyle='--')\n",
        "plt.title('Hill functions')\n",
        "plt.show()"
      ],
      "execution_count": 14,
      "outputs": [
        {
          "output_type": "stream",
          "text": [
            "[0.00000000e+00 1.00190261e-04 4.00640624e-04 9.00990188e-04\n",
            " 1.60063865e-03 2.49874813e-03 3.59424561e-03 4.88582622e-03\n",
            " 6.37195702e-03 8.05088157e-03 9.92062508e-03 1.19790001e-02\n",
            " 1.42236130e-02 1.66518705e-02 1.92609874e-02 2.20479941e-02\n",
            " 2.50097450e-02 2.81429271e-02 3.14440689e-02 3.49095495e-02\n",
            " 3.85356083e-02 4.23183549e-02 4.62537784e-02 5.03377578e-02\n",
            " 5.45660718e-02 5.89344093e-02 6.34383789e-02 6.80735194e-02\n",
            " 7.28353095e-02 7.77191778e-02 8.27205122e-02 8.78346697e-02\n",
            " 9.30569856e-02 9.83827822e-02 1.03807378e-01 1.09326096e-01\n",
            " 1.14934272e-01 1.20627262e-01 1.26400450e-01 1.32249255e-01\n",
            " 1.38169138e-01 1.44155609e-01 1.50204232e-01 1.56310630e-01\n",
            " 1.62470491e-01 1.68679576e-01 1.74933718e-01 1.81228828e-01\n",
            " 1.87560902e-01 1.93926021e-01 2.00320352e-01 2.06740158e-01\n",
            " 2.13181793e-01 2.19641708e-01 2.26116450e-01 2.32602666e-01\n",
            " 2.39097103e-01 2.45596609e-01 2.52098132e-01 2.58598723e-01\n",
            " 2.65095534e-01 2.71585817e-01 2.78066928e-01 2.84536322e-01\n",
            " 2.90991552e-01 2.97430273e-01 3.03850234e-01 3.10249285e-01\n",
            " 3.16625365e-01 3.22976512e-01 3.29300854e-01 3.35596608e-01\n",
            " 3.41862080e-01 3.48095664e-01 3.54295837e-01 3.60461160e-01\n",
            " 3.66590273e-01 3.72681895e-01 3.78734824e-01 3.84747929e-01\n",
            " 3.90720152e-01 3.96650507e-01 4.02538073e-01 4.08381998e-01\n",
            " 4.14181490e-01 4.19935821e-01 4.25644322e-01 4.31306381e-01\n",
            " 4.36921442e-01 4.42488999e-01 4.48008602e-01 4.53479846e-01\n",
            " 4.58902375e-01 4.64275879e-01 4.69600091e-01 4.74874783e-01\n",
            " 4.80099771e-01 4.85274906e-01 4.90400076e-01 4.95475206e-01\n",
            " 5.00500250e-01 5.05475197e-01 5.10400064e-01 5.15274897e-01\n",
            " 5.20099769e-01 5.24874780e-01 5.29600052e-01 5.34275732e-01\n",
            " 5.38901987e-01 5.43479007e-01 5.48006998e-01 5.52486188e-01\n",
            " 5.56916819e-01 5.61299151e-01 5.65633459e-01 5.69920030e-01\n",
            " 5.74159168e-01 5.78351186e-01 5.82496410e-01 5.86595176e-01\n",
            " 5.90647830e-01 5.94654728e-01 5.98616233e-01 6.02532716e-01\n",
            " 6.06404557e-01 6.10232138e-01 6.14015852e-01 6.17756093e-01\n",
            " 6.21453261e-01 6.25107763e-01 6.28720004e-01 6.32290397e-01\n",
            " 6.35819356e-01 6.39307297e-01 6.42754638e-01 6.46161799e-01\n",
            " 6.49529200e-01 6.52857264e-01 6.56146411e-01 6.59397065e-01\n",
            " 6.62609648e-01 6.65784580e-01 6.68922283e-01 6.72023178e-01\n",
            " 6.75087682e-01 6.78116214e-01 6.81109189e-01 6.84067022e-01\n",
            " 6.86990125e-01 6.89878907e-01 6.92733777e-01 6.95555140e-01\n",
            " 6.98343399e-01 7.01098954e-01 7.03822203e-01 7.06513540e-01\n",
            " 7.09173357e-01 7.11802041e-01 7.14399979e-01 7.16967551e-01\n",
            " 7.19505138e-01 7.22013113e-01 7.24491849e-01 7.26941715e-01\n",
            " 7.29363074e-01 7.31756288e-01 7.34121714e-01 7.36459707e-01\n",
            " 7.38770616e-01 7.41054788e-01 7.43312566e-01 7.45544289e-01\n",
            " 7.47750291e-01 7.49930905e-01 7.52086459e-01 7.54217275e-01\n",
            " 7.56323675e-01 7.58405975e-01 7.60464487e-01 7.62499521e-01\n",
            " 7.64511382e-01 7.66500370e-01 7.68466785e-01 7.70410920e-01\n",
            " 7.72333066e-01 7.74233509e-01 7.76112532e-01 7.77970416e-01\n",
            " 7.79807435e-01 7.81623863e-01 7.83419969e-01 7.85196017e-01\n",
            " 7.86952270e-01 7.88688986e-01 7.90406420e-01 7.92104824e-01\n",
            " 7.93784446e-01 7.95445532e-01 7.97088322e-01 7.98713056e-01\n",
            " 8.00319968e-01 8.01909291e-01 8.03481253e-01 8.05036081e-01\n",
            " 8.06573997e-01 8.08095220e-01 8.09599968e-01 8.11088453e-01\n",
            " 8.12560887e-01 8.14017477e-01 8.15458429e-01 8.16883944e-01\n",
            " 8.18294221e-01 8.19689458e-01 8.21069847e-01 8.22435580e-01\n",
            " 8.23786845e-01 8.25123828e-01 8.26446712e-01 8.27755678e-01\n",
            " 8.29050903e-01 8.30332563e-01 8.31600832e-01 8.32855879e-01\n",
            " 8.34097873e-01 8.35326980e-01 8.36543364e-01 8.37747185e-01\n",
            " 8.38938603e-01 8.40117774e-01 8.41284853e-01 8.42439993e-01\n",
            " 8.43583342e-01 8.44715050e-01 8.45835262e-01 8.46944123e-01\n",
            " 8.48041774e-01 8.49128354e-01 8.50204003e-01 8.51268856e-01\n",
            " 8.52323046e-01 8.53366707e-01 8.54399969e-01 8.55422959e-01\n",
            " 8.56435805e-01 8.57438632e-01 8.58431562e-01 8.59414718e-01\n",
            " 8.60388218e-01 8.61352182e-01 8.62306724e-01 8.63251961e-01\n",
            " 8.64188005e-01 8.65114968e-01 8.66032959e-01 8.66942088e-01\n",
            " 8.67842461e-01 8.68734184e-01 8.69617361e-01 8.70492095e-01\n",
            " 8.71358485e-01 8.72216633e-01 8.73066637e-01 8.73908593e-01\n",
            " 8.74742598e-01 8.75568746e-01 8.76387129e-01 8.77197840e-01\n",
            " 8.78000968e-01 8.78796605e-01 8.79584836e-01 8.80365750e-01\n",
            " 8.81139431e-01 8.81905965e-01 8.82665434e-01 8.83417921e-01\n",
            " 8.84163508e-01 8.84902273e-01 8.85634295e-01 8.86359654e-01\n",
            " 8.87078424e-01 8.87790683e-01 8.88496504e-01 8.89195962e-01\n",
            " 8.89889129e-01 8.90576077e-01 8.91256876e-01 8.91931597e-01\n",
            " 8.92600309e-01 8.93263078e-01 8.93919973e-01 8.94571059e-01\n",
            " 8.95216403e-01 8.95856067e-01 8.96490116e-01 8.97118613e-01\n",
            " 8.97741619e-01 8.98359195e-01 8.98971402e-01 8.99578300e-01\n",
            " 9.00179946e-01 9.00776399e-01 9.01367716e-01 9.01953954e-01\n",
            " 9.02535167e-01 9.03111412e-01 9.03682742e-01 9.04249210e-01\n",
            " 9.04810871e-01 9.05367775e-01 9.05919975e-01 9.06467521e-01\n",
            " 9.07010463e-01 9.07548851e-01 9.08082734e-01 9.08612160e-01\n",
            " 9.09137176e-01 9.09657831e-01 9.10174169e-01 9.10686238e-01\n",
            " 9.11194082e-01 9.11697745e-01 9.12197273e-01 9.12692709e-01\n",
            " 9.13184095e-01 9.13671475e-01 9.14154890e-01 9.14634381e-01\n",
            " 9.15109990e-01 9.15581757e-01 9.16049721e-01 9.16513923e-01\n",
            " 9.16974400e-01 9.17431193e-01 9.17884337e-01 9.18333872e-01\n",
            " 9.18779833e-01 9.19222258e-01 9.19661183e-01 9.20096643e-01\n",
            " 9.20528673e-01 9.20957309e-01 9.21382584e-01 9.21804533e-01\n",
            " 9.22223189e-01 9.22638586e-01 9.23050755e-01 9.23459730e-01\n",
            " 9.23865542e-01 9.24268223e-01 9.24667805e-01 9.25064317e-01\n",
            " 9.25457790e-01 9.25848255e-01 9.26235740e-01 9.26620277e-01\n",
            " 9.27001892e-01 9.27380616e-01 9.27756477e-01 9.28129502e-01\n",
            " 9.28499719e-01 9.28867155e-01 9.29231838e-01 9.29593794e-01\n",
            " 9.29953050e-01 9.30309631e-01 9.30663564e-01 9.31014873e-01\n",
            " 9.31363585e-01 9.31709723e-01 9.32053313e-01 9.32394379e-01\n",
            " 9.32732945e-01 9.33069035e-01 9.33402671e-01 9.33733878e-01\n",
            " 9.34062678e-01 9.34389094e-01 9.34713148e-01 9.35034863e-01\n",
            " 9.35354260e-01 9.35671361e-01 9.35986188e-01 9.36298761e-01\n",
            " 9.36609102e-01 9.36917232e-01 9.37223170e-01 9.37526937e-01\n",
            " 9.37828553e-01 9.38128038e-01 9.38425411e-01 9.38720692e-01\n",
            " 9.39013900e-01 9.39305053e-01 9.39594171e-01 9.39881272e-01\n",
            " 9.40166374e-01 9.40449496e-01 9.40730655e-01 9.41009869e-01\n",
            " 9.41287155e-01 9.41562531e-01 9.41836014e-01 9.42107620e-01\n",
            " 9.42377368e-01 9.42645272e-01 9.42911350e-01 9.43175618e-01\n",
            " 9.43438091e-01 9.43698786e-01 9.43957719e-01 9.44214904e-01\n",
            " 9.44470358e-01 9.44724095e-01 9.44976130e-01 9.45226479e-01\n",
            " 9.45475155e-01 9.45722175e-01 9.45967551e-01 9.46211299e-01\n",
            " 9.46453431e-01 9.46693963e-01 9.46932909e-01 9.47170281e-01\n",
            " 9.47406093e-01 9.47640358e-01 9.47873091e-01 9.48104304e-01\n",
            " 9.48334009e-01 9.48562220e-01 9.48788950e-01 9.49014210e-01\n",
            " 9.49238014e-01 9.49460374e-01 9.49681301e-01 9.49900808e-01\n",
            " 9.50118907e-01 9.50335610e-01 9.50550928e-01 9.50764873e-01\n",
            " 9.50977456e-01 9.51188689e-01 9.51398582e-01 9.51607148e-01\n",
            " 9.51814396e-01 9.52020338e-01 9.52224985e-01 9.52428347e-01\n",
            " 9.52630435e-01 9.52831258e-01 9.53030829e-01 9.53229156e-01\n",
            " 9.53426250e-01 9.53622120e-01 9.53816778e-01 9.54010232e-01\n",
            " 9.54202493e-01 9.54393570e-01 9.54583472e-01 9.54772209e-01\n",
            " 9.54959791e-01 9.55146226e-01 9.55331524e-01 9.55515694e-01\n",
            " 9.55698745e-01 9.55880685e-01 9.56061525e-01 9.56241271e-01\n",
            " 9.56419933e-01 9.56597520e-01 9.56774040e-01 9.56949502e-01\n",
            " 9.57123913e-01 9.57297282e-01 9.57469617e-01 9.57640926e-01\n",
            " 9.57811218e-01 9.57980499e-01 9.58148779e-01 9.58316064e-01\n",
            " 9.58482363e-01 9.58647683e-01 9.58812031e-01 9.58975416e-01\n",
            " 9.59137844e-01 9.59299323e-01 9.59459860e-01 9.59619462e-01\n",
            " 9.59778137e-01 9.59935891e-01 9.60092732e-01 9.60248666e-01\n",
            " 9.60403701e-01 9.60557843e-01 9.60711098e-01 9.60863475e-01\n",
            " 9.61014978e-01 9.61165616e-01 9.61315393e-01 9.61464317e-01\n",
            " 9.61612395e-01 9.61759631e-01 9.61906034e-01 9.62051608e-01\n",
            " 9.62196360e-01 9.62340297e-01 9.62483423e-01 9.62625746e-01\n",
            " 9.62767271e-01 9.62908004e-01 9.63047950e-01 9.63187116e-01\n",
            " 9.63325507e-01 9.63463130e-01 9.63599988e-01 9.63736089e-01\n",
            " 9.63871437e-01 9.64006039e-01 9.64139899e-01 9.64273022e-01\n",
            " 9.64405415e-01 9.64537083e-01 9.64668030e-01 9.64798262e-01\n",
            " 9.64927783e-01 9.65056600e-01 9.65184717e-01 9.65312140e-01\n",
            " 9.65438872e-01 9.65564919e-01 9.65690286e-01 9.65814977e-01\n",
            " 9.65938999e-01 9.66062354e-01 9.66185048e-01 9.66307086e-01\n",
            " 9.66428472e-01 9.66549210e-01 9.66669306e-01 9.66788764e-01\n",
            " 9.66907588e-01 9.67025782e-01 9.67143352e-01 9.67260301e-01\n",
            " 9.67376634e-01 9.67492355e-01 9.67607468e-01 9.67721977e-01\n",
            " 9.67835887e-01 9.67949202e-01 9.68061925e-01 9.68174061e-01\n",
            " 9.68285615e-01 9.68396589e-01 9.68506988e-01 9.68616815e-01\n",
            " 9.68726076e-01 9.68834772e-01 9.68942910e-01 9.69050491e-01\n",
            " 9.69157520e-01 9.69264001e-01 9.69369937e-01 9.69475332e-01\n",
            " 9.69580190e-01 9.69684514e-01 9.69788307e-01 9.69891574e-01\n",
            " 9.69994318e-01 9.70096543e-01 9.70198251e-01 9.70299446e-01\n",
            " 9.70400133e-01 9.70500313e-01 9.70599990e-01 9.70699169e-01\n",
            " 9.70797851e-01 9.70896040e-01 9.70993740e-01 9.71090954e-01\n",
            " 9.71187685e-01 9.71283936e-01 9.71379710e-01 9.71475010e-01\n",
            " 9.71569840e-01 9.71664202e-01 9.71758100e-01 9.71851536e-01\n",
            " 9.71944514e-01 9.72037036e-01 9.72129106e-01 9.72220726e-01\n",
            " 9.72311899e-01 9.72402629e-01 9.72492917e-01 9.72582767e-01\n",
            " 9.72672182e-01 9.72761164e-01 9.72849717e-01 9.72937842e-01\n",
            " 9.73025543e-01 9.73112822e-01 9.73199682e-01 9.73286125e-01\n",
            " 9.73372155e-01 9.73457774e-01 9.73542984e-01 9.73627788e-01\n",
            " 9.73712189e-01 9.73796189e-01 9.73879790e-01 9.73962996e-01\n",
            " 9.74045808e-01 9.74128229e-01 9.74210262e-01 9.74291908e-01\n",
            " 9.74373171e-01 9.74454053e-01 9.74534555e-01 9.74614681e-01\n",
            " 9.74694432e-01 9.74773812e-01 9.74852822e-01 9.74931464e-01\n",
            " 9.75009741e-01 9.75087656e-01 9.75165209e-01 9.75242404e-01\n",
            " 9.75319243e-01 9.75395727e-01 9.75471860e-01 9.75547642e-01\n",
            " 9.75623077e-01 9.75698166e-01 9.75772912e-01 9.75847316e-01\n",
            " 9.75921381e-01 9.75995108e-01 9.76068500e-01 9.76141559e-01\n",
            " 9.76214286e-01 9.76286684e-01 9.76358755e-01 9.76430500e-01\n",
            " 9.76501922e-01 9.76573022e-01 9.76643803e-01 9.76714265e-01\n",
            " 9.76784412e-01 9.76854245e-01 9.76923766e-01 9.76992976e-01\n",
            " 9.77061878e-01 9.77130474e-01 9.77198764e-01 9.77266751e-01\n",
            " 9.77334438e-01 9.77401824e-01 9.77468913e-01 9.77535706e-01\n",
            " 9.77602204e-01 9.77668410e-01 9.77734325e-01 9.77799951e-01\n",
            " 9.77865289e-01 9.77930342e-01 9.77995110e-01 9.78059596e-01\n",
            " 9.78123800e-01 9.78187726e-01 9.78251373e-01 9.78314745e-01\n",
            " 9.78377842e-01 9.78440666e-01 9.78503219e-01 9.78565501e-01\n",
            " 9.78627516e-01 9.78689263e-01 9.78750746e-01 9.78811964e-01\n",
            " 9.78872921e-01 9.78933616e-01 9.78994052e-01 9.79054231e-01\n",
            " 9.79114153e-01 9.79173820e-01 9.79233233e-01 9.79292394e-01\n",
            " 9.79351305e-01 9.79409967e-01 9.79468380e-01 9.79526547e-01\n",
            " 9.79584469e-01 9.79642147e-01 9.79699583e-01 9.79756778e-01\n",
            " 9.79813733e-01 9.79870449e-01 9.79926929e-01 9.79983173e-01\n",
            " 9.80039182e-01 9.80094958e-01 9.80150502e-01 9.80205816e-01\n",
            " 9.80260900e-01 9.80315757e-01 9.80370386e-01 9.80424790e-01\n",
            " 9.80478969e-01 9.80532926e-01 9.80586660e-01 9.80640174e-01\n",
            " 9.80693468e-01 9.80746544e-01 9.80799402e-01 9.80852045e-01\n",
            " 9.80904473e-01 9.80956687e-01 9.81008689e-01 9.81060480e-01\n",
            " 9.81112060e-01 9.81163431e-01 9.81214594e-01 9.81265551e-01\n",
            " 9.81316301e-01 9.81366847e-01 9.81417190e-01 9.81467330e-01\n",
            " 9.81517268e-01 9.81567006e-01 9.81616545e-01 9.81665886e-01\n",
            " 9.81715030e-01 9.81763977e-01 9.81812730e-01 9.81861288e-01\n",
            " 9.81909654e-01 9.81957827e-01 9.82005810e-01 9.82053602e-01\n",
            " 9.82101206e-01 9.82148621e-01 9.82195849e-01 9.82242892e-01\n",
            " 9.82289749e-01 9.82336422e-01 9.82382912e-01 9.82429220e-01\n",
            " 9.82475346e-01 9.82521293e-01 9.82567059e-01 9.82612648e-01\n",
            " 9.82658059e-01 9.82703293e-01 9.82748351e-01 9.82793235e-01\n",
            " 9.82837945e-01 9.82882481e-01 9.82926846e-01 9.82971039e-01\n",
            " 9.83015062e-01 9.83058915e-01 9.83102600e-01 9.83146117e-01\n",
            " 9.83189467e-01 9.83232651e-01 9.83275670e-01 9.83318524e-01\n",
            " 9.83361215e-01 9.83403743e-01 9.83446109e-01 9.83488314e-01\n",
            " 9.83530359e-01 9.83572244e-01 9.83613970e-01 9.83655539e-01\n",
            " 9.83696950e-01 9.83738205e-01 9.83779305e-01 9.83820250e-01\n",
            " 9.83861040e-01 9.83901678e-01 9.83942163e-01 9.83982497e-01\n",
            " 9.84022679e-01 9.84062711e-01 9.84102594e-01 9.84142328e-01\n",
            " 9.84181914e-01 9.84221353e-01 9.84260646e-01 9.84299792e-01\n",
            " 9.84338794e-01 9.84377651e-01 9.84416364e-01 9.84454934e-01\n",
            " 9.84493363e-01 9.84531649e-01 9.84569795e-01 9.84607800e-01\n",
            " 9.84645666e-01 9.84683393e-01 9.84720982e-01 9.84758434e-01\n",
            " 9.84795749e-01 9.84832927e-01 9.84869970e-01 9.84906878e-01\n",
            " 9.84943652e-01 9.84980293e-01 9.85016800e-01 9.85053175e-01\n",
            " 9.85089419e-01 9.85125531e-01 9.85161514e-01 9.85197366e-01\n",
            " 9.85233089e-01 9.85268684e-01 9.85304151e-01 9.85339491e-01\n",
            " 9.85374703e-01 9.85409790e-01 9.85444752e-01 9.85479588e-01\n",
            " 9.85514300e-01 9.85548889e-01 9.85583354e-01 9.85617696e-01\n",
            " 9.85651917e-01 9.85686017e-01 9.85719995e-01 9.85753853e-01\n",
            " 9.85787592e-01 9.85821211e-01 9.85854712e-01 9.85888095e-01\n",
            " 9.85921360e-01 9.85954509e-01 9.85987541e-01 9.86020457e-01\n",
            " 9.86053258e-01 9.86085944e-01 9.86118516e-01 9.86150974e-01\n",
            " 9.86183319e-01 9.86215551e-01 9.86247671e-01 9.86279680e-01\n",
            " 9.86311577e-01 9.86343364e-01 9.86375041e-01 9.86406608e-01\n",
            " 9.86438067e-01 9.86469416e-01 9.86500658e-01 9.86531791e-01\n",
            " 9.86562818e-01 9.86593738e-01 9.86624553e-01 9.86655261e-01\n",
            " 9.86685864e-01 9.86716363e-01 9.86746757e-01 9.86777048e-01\n",
            " 9.86807235e-01 9.86837320e-01 9.86867302e-01 9.86897183e-01\n",
            " 9.86926962e-01 9.86956640e-01 9.86986217e-01 9.87015695e-01\n",
            " 9.87045072e-01 9.87074351e-01 9.87103531e-01 9.87132613e-01\n",
            " 9.87161597e-01 9.87190483e-01 9.87219273e-01 9.87247966e-01\n",
            " 9.87276563e-01 9.87305064e-01 9.87333470e-01 9.87361781e-01\n",
            " 9.87389998e-01 9.87418120e-01 9.87446149e-01 9.87474085e-01\n",
            " 9.87501929e-01 9.87529680e-01 9.87557339e-01 9.87584906e-01\n",
            " 9.87612382e-01 9.87639768e-01 9.87667063e-01 9.87694268e-01\n",
            " 9.87721384e-01 9.87748411e-01 9.87775349e-01 9.87802198e-01\n",
            " 9.87828959e-01 9.87855633e-01 9.87882220e-01 9.87908720e-01\n",
            " 9.87935133e-01 9.87961460e-01 9.87987701e-01 9.88013857e-01\n",
            " 9.88039929e-01 9.88065915e-01 9.88091817e-01 9.88117635e-01\n",
            " 9.88143370e-01 9.88169022e-01 9.88194590e-01 9.88220077e-01\n",
            " 9.88245481e-01 9.88270803e-01 9.88296044e-01 9.88321204e-01\n",
            " 9.88346283e-01 9.88371282e-01 9.88396201e-01 9.88421040e-01\n",
            " 9.88445800e-01 9.88470480e-01 9.88495082e-01 9.88519606e-01\n",
            " 9.88544052e-01 9.88568419e-01 9.88592710e-01 9.88616923e-01\n",
            " 9.88641060e-01 9.88665121e-01 9.88689105e-01 9.88713014e-01\n",
            " 9.88736847e-01 9.88760605e-01 9.88784288e-01 9.88807896e-01\n",
            " 9.88831431e-01 9.88854892e-01 9.88878279e-01 9.88901592e-01\n",
            " 9.88924833e-01 9.88948002e-01 9.88971097e-01 9.88994121e-01\n",
            " 9.89017073e-01 9.89039954e-01 9.89062763e-01 9.89085502e-01\n",
            " 9.89108170e-01 9.89130767e-01 9.89153295e-01 9.89175753e-01\n",
            " 9.89198142e-01 9.89220461e-01 9.89242711e-01 9.89264893e-01\n",
            " 9.89287007e-01 9.89309053e-01 9.89331031e-01 9.89352941e-01\n",
            " 9.89374785e-01 9.89396561e-01 9.89418271e-01 9.89439914e-01\n",
            " 9.89461491e-01 9.89483003e-01 9.89504449e-01 9.89525829e-01\n",
            " 9.89547145e-01 9.89568396e-01 9.89589582e-01 9.89610704e-01\n",
            " 9.89631762e-01 9.89652756e-01 9.89673687e-01 9.89694554e-01\n",
            " 9.89715359e-01 9.89736101e-01 9.89756780e-01 9.89777398e-01\n",
            " 9.89797953e-01 9.89818446e-01 9.89838878e-01 9.89859249e-01\n",
            " 9.89879559e-01 9.89899808e-01 9.89919996e-01 9.89940125e-01\n",
            " 9.89960193e-01 9.89980201e-01 9.90000150e-01 9.90020040e-01\n",
            " 9.90039871e-01 9.90059642e-01 9.90079355e-01 9.90099010e-01]\n"
          ],
          "name": "stdout"
        },
        {
          "output_type": "display_data",
          "data": {
            "image/png": "[encoded data removed]",
            "text/plain": [
              "<matplotlib.figure.Figure at 0x7f3705dadcd0>"
            ]
          },
          "metadata": {
            "tags": []
          }
        }
      ]
    },
    {
      "metadata": {
        "id": "4u34vW3WNFan",
        "colab_type": "text"
      },
      "cell_type": "markdown",
      "source": [
        "At what concentration A_t does the Hill funciton reach $\\theta$=0.75?"
      ]
    },
    {
      "metadata": {
        "id": "AUdlZElWNTL9",
        "colab_type": "code",
        "colab": {
          "base_uri": "https://localhost:8080/",
          "height": 34
        },
        "outputId": "2520e9d2-7ee2-45f6-9fc0-82c3f5a90323"
      },
      "cell_type": "code",
      "source": [
        "best_index = np.argmin((thetas-0.75)**2.)\n",
        "A_t = concentrations[best_index]\n",
        "print(\"with parameters A0=%.1f, h=%.1f, thetas reaches 0.75 for A_t = %.1f\" %(10, 2, A_t))\n"
      ],
      "execution_count": 17,
      "outputs": [
        {
          "output_type": "stream",
          "text": [
            "with parameters A0=10.0, h=2.0, thetas reaches 0.75 for A_t = 17.3\n"
          ],
          "name": "stdout"
        }
      ]
    },
    {
      "metadata": {
        "id": "5EUd2b1NPYBk",
        "colab_type": "text"
      },
      "cell_type": "markdown",
      "source": [
        "Let's define a function find_A_t(theta_0) and outputs the concentration $A_t$ such that theta=theta_0"
      ]
    },
    {
      "metadata": {
        "id": "YDxo5izLQMzQ",
        "colab_type": "code",
        "colab": {
          "base_uri": "https://localhost:8080/",
          "height": 34
        },
        "outputId": "f7cb8d67-e339-4d53-e18a-f7acfffc98df"
      },
      "cell_type": "code",
      "source": [
        "def find_A_t(theta_0):\n",
        "  A_t = concentrations[np.argmin((thetas-theta_0)**2.)]\n",
        "  return A_t\n",
        "find_A_t(0.75)\n",
        "find_A_t(0.9)"
      ],
      "execution_count": 26,
      "outputs": [
        {
          "output_type": "execute_result",
          "data": {
            "text/plain": [
              "30.030030030030034"
            ]
          },
          "metadata": {
            "tags": []
          },
          "execution_count": 26
        }
      ]
    },
    {
      "metadata": {
        "id": "4Kq3-fK6VJBI",
        "colab_type": "code",
        "colab": {
          "base_uri": "https://localhost:8080/",
          "height": 34
        },
        "outputId": "b6a72ba2-258e-47b3-bc83-04c8e54e2ad8"
      },
      "cell_type": "code",
      "source": [
        "print(\"with parameters A0=%.1f, h=%.1f, theta reaches 0.9 for A_t=%.1f\") % (10,2,find_A_t(0.9))"
      ],
      "execution_count": 28,
      "outputs": [
        {
          "output_type": "stream",
          "text": [
            "with parameters A0=10.0, h=2.0, theta reaches 0.9 for A_t=30.0\n"
          ],
          "name": "stdout"
        }
      ]
    },
    {
      "metadata": {
        "id": "OZ4_mRAfZHwh",
        "colab_type": "text"
      },
      "cell_type": "markdown",
      "source": [
        "Let's define a Hill2 Function "
      ]
    },
    {
      "metadata": {
        "id": "GSEaoekLZNFA",
        "colab_type": "code",
        "colab": {}
      },
      "cell_type": "code",
      "source": [
        "def hill_2(A, h, A0):\n",
        "  theta= A**h /(A0**h + A**h)\n",
        "  return theta\n",
        "\n",
        "\n",
        "def find_A_t_2(theta_0, h, A0):\n",
        "  concentrations =np.linspace(0, 100, 1000)\n",
        "  thetas=hill_2(concentrations, h, A0)\n",
        "  best_index=np.argmin((thetas-theta_0)**2.)\n",
        "  A_t=concentrations[best_index]\n",
        "  return A_t\n"
      ],
      "execution_count": 0,
      "outputs": []
    },
    {
      "metadata": {
        "id": "sIKw6NrnbVkc",
        "colab_type": "code",
        "colab": {
          "base_uri": "https://localhost:8080/",
          "height": 294
        },
        "outputId": "2b5d4cff-c563-437e-9c61-4fba2c72ca23"
      },
      "cell_type": "code",
      "source": [
        "hs=np.linspace(1, 10, 10)\n",
        "hs\n",
        "A_ts=[]\n",
        "\n",
        "for h in hs:\n",
        "  A_t=find_A_t_2(0.75, h, 10)\n",
        "  A_ts.append(A_t)\n",
        "\n",
        "plt.figure(figsize=(4,4))\n",
        "plt.plot(hs, A_ts)\n",
        "plt.xlabel('h')\n",
        "plt.ylabel('$A_t$')\n",
        "plt.axhline([0], color='black', linestyle='--')\n",
        "plt.title('Hill functions')\n",
        "plt.show()\n"
      ],
      "execution_count": 38,
      "outputs": [
        {
          "output_type": "display_data",
          "data": {
            "image/png": "[encoded data removed]",
            "text/plain": [
              "<matplotlib.figure.Figure at 0x7f3705cc60d0>"
            ]
          },
          "metadata": {
            "tags": []
          }
        }
      ]
    }
  ]
}