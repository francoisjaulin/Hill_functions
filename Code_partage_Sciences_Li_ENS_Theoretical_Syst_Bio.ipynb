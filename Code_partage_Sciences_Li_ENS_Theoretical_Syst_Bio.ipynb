{
  "nbformat": 4,
  "nbformat_minor": 0,
  "metadata": {
    "colab": {
      "name": "Code partage - Sciences Li - ENS - Theoretical Syst Bio",
      "version": "0.3.2",
      "provenance": [],
      "collapsed_sections": [],
      "include_colab_link": true
    },
    "kernelspec": {
      "name": "python2",
      "display_name": "Python 2"
    }
  },
  "cells": [
    {
      "cell_type": "markdown",
      "metadata": {
        "id": "view-in-github",
        "colab_type": "text"
      },
      "source": [
        "<a href=\"https://colab.research.google.com/github/francoisjaulin/Hill_functions/blob/master/Code_partage_Sciences_Li_ENS_Theoretical_Syst_Bio.ipynb\" target=\"_parent\"><img src=\"https://colab.research.google.com/assets/colab-badge.svg\" alt=\"Open In Colab\"/></a>"
      ]
    },
    {
      "metadata": {
        "id": "a-2QZRkIetfS",
        "colab_type": "text"
      },
      "cell_type": "markdown",
      "source": [
        "# Morphogen gradient reconstitution reveals Hedgehog pathway design principles\n",
        "Sciences - Li \n",
        "\n",
        "http://science.sciencemag.org/content/early/2018/04/04/science.aao0645\n",
        "\n",
        "\n",
        "François JAULIN - +33 6 83 95 21 92 - francoisjaulin@gmail.com\n",
        "\n",
        "Jean de SEZE - +33 6 01 39 72 79 - jeands216@gmail.com\n",
        "\n",
        "Annabelle WURMSER - +33 6 - chanabeu@gmail.com\n",
        "\n",
        "\n",
        "# Reproducibility of the results presented in the article - fig 2F\n",
        "![Texte alternatif…](http://science.sciencemag.org/content/sci/early/2018/04/04/science.aao0645/F2.large.jpg?width=800&height=600&carousel=1)"
      ]
    },
    {
      "metadata": {
        "id": "6asikh3XqoZx",
        "colab_type": "text"
      },
      "cell_type": "markdown",
      "source": [
        "# Model Parameters\n",
        "\n"
      ]
    },
    {
      "metadata": {
        "id": "wGyNxLqQfBJ7",
        "colab_type": "code",
        "colab": {}
      },
      "cell_type": "code",
      "source": [
        "import numpy as np\n",
        "import matplotlib.pyplot as plt\n",
        "\n",
        "  \n",
        "ap=0.024 #alpha ptc free PTCH production rate\n",
        "gp=0.006 #gamma p free PTCH degradation rate\n",
        "gc=0.1539 #gamma c HH-PTCH degratdation rate constant \n",
        "koffc=0.3018 #HH-PTCH complex dissociation rate constant\n",
        "Np=0.9 #Hill coefficient for PTCH control of GLIR production\n",
        "ar=0.3908 #alpha R GLIR production rate constant\n",
        "gr=0.002 #gamma R GLIR degradation rate constant\n",
        "Kr=8.5184 #Hill constant for GLIR control of signal production\n",
        "nr=1.5735 #Hill coefficient for GLIR control of signal production\n",
        "ag=0.0056881 #GLIR-dependent signal production rate constant\n",
        "ag0=0.000098715 #Basal signal production rate constant\n",
        "D=58.3931 #Free HH diffusion constant\n",
        "gh=0.00081346 #Free HH degradation rate constant\n",
        "konhp=0.3018 #HH-PTCH complex association rate constant\n",
        "Kp=0.5660 #Hill constant for PTCH control of GLIR production\n",
        "  "
      ],
      "execution_count": 0,
      "outputs": []
    },
    {
      "metadata": {
        "id": "FtzmhuEDstiH",
        "colab_type": "text"
      },
      "cell_type": "markdown",
      "source": [
        "#Implementation of H in a simple diffusion regime : \n",
        "\n",
        "$\\dfrac{\\delta H}{\\delta t}=D\\dfrac{\\delta^{2} H}{\\delta x^{2}}$\n",
        "\n",
        "This equation can be approximated as follows : \n",
        "\n",
        "$\\dfrac{\\delta H}{\\delta t}\\sim \\dfrac{H(t+\\Delta T)- H(t)}{\\Delta t^{2}}$\n",
        "\n",
        "$\\dfrac{\\delta^{2} H}{\\delta x^{2}}\\sim \\dfrac{H(x+\\Delta x)- 2H(x)+H(x-\\Delta x) }{\\Delta x^{2}}$"
      ]
    },
    {
      "metadata": {
        "id": "3fWjEcVTsqi6",
        "colab_type": "code",
        "outputId": "83d9d8f0-3f7c-4f09-f4de-b1897b58e9df",
        "colab": {
          "base_uri": "https://localhost:8080/",
          "height": 457
        }
      },
      "cell_type": "code",
      "source": [
        "H0=10\n",
        "dt=0.001 #intervalle de temps\n",
        "dx=1 #1 micron\n",
        "nx=10\n",
        "nt=10000\n",
        "x=np.linspace(1,nx,nx,dtype=int) #partition espace\n",
        "t=np.linspace(1,nt,nt,dtype=int) #partition temps\n",
        "#print(x,t)\n",
        "\n",
        "H=np.zeros((nt+1,nx+2))\n",
        "\n",
        "H[0][0]=H0\n",
        "\n",
        "\n",
        "\n",
        "#Implementation de H à partir de l'équation de diffusion\n",
        "for i in t:\n",
        "  H[i][0]=H0 #on fixe la condition initiale sur le bord à H0, pour tout t.\n",
        "  for j in x:\n",
        "    H[i][j]=H[i-1][j]+D*(dt/(dx*dx))*(H[i-1][j-1]-2*H[i-1][j]+H[i-1][j+1])\n",
        "  \n",
        "#print(H.transpose()[0])\n",
        "\n",
        "x=np.linspace(1,nx+2,nx+2)\n",
        "  \n",
        "plt.figure(figsize=(7,7))\n",
        "plt.plot(x,H[100])\n",
        "plt.xlabel('Space (x)')\n",
        "plt.ylabel('$\\H$')\n",
        "plt.axhline([0], color='black', linestyle='--')\n",
        "plt.title('Free particule of Hedgehog')\n",
        "plt.show()\n",
        "\n",
        "    \n",
        "  \n",
        "  "
      ],
      "execution_count": 0,
      "outputs": [
        {
          "output_type": "display_data",
          "data": {
            "image/png": "[encoded data removed]",
            "text/plain": [
              "<matplotlib.figure.Figure at 0x7fa0e3a22490>"
            ]
          },
          "metadata": {
            "tags": []
          }
        }
      ]
    },
    {
      "metadata": {
        "id": "xlR8zHcSK_ji",
        "colab_type": "text"
      },
      "cell_type": "markdown",
      "source": [
        "#Open Loop Model of HH spatio-temporal dynamics\n",
        "\n",
        "We have the following reaction : $H+P\\rightleftharpoons C$ where $H$ corresponds to Hedgehog concentration, $P$ its receptor concentration and $C$ the complex $HP$ concentration. \n",
        "Those concentration behave as follow : \n",
        "\n",
        "##P\n",
        "$\\dfrac{\\delta P}{\\delta t}=\\alpha_{PTC}-\\gamma_{P} P - k_{on}HP + k_{off}C$\n",
        "\n",
        "$P$ is produced with an $\\alpha_{PTC}$ rate, degradated by the cell at $\\gamma_{P} P$ rate and threw the previous chemical reaction linked to $H$ or created by $C$ dissociation.\n",
        "\n",
        "##C\n",
        "$\\dfrac{\\delta C}{\\delta t}=k_{on}HP - k_{off}C-\\gamma_{C}C$\n",
        "\n",
        "$C$ has an analogous behaviour.\n",
        "\n",
        "\n",
        "##R\n",
        "$\\dfrac{\\delta R}{\\delta t}=\\alpha_{R} \\dfrac{P^{n_{P}}}{K^{n_{P}}+P^{n_{P}}}-\\gamma_{R}R$\n",
        "\n",
        "The Hill function inside that equation comes from the Ligand Receptor situation.\n",
        "\n",
        "##S\n",
        "$\\dfrac{\\delta S}{\\delta t}=\\alpha_{GBS,0}+\\alpha_{GBS}\\varphi_{R}$ where $\\varphi_{R}=\\dfrac{K^{n_{R}}}{K^{n_{R}}+R^{n_{R}}}$\n",
        "\n",
        "\n",
        "\n",
        "##H follows now the following diffusion equation : \n",
        "$\\dfrac{\\delta H}{\\delta t}=D\\dfrac{\\delta^{2} H}{\\delta t^{2}}-\\gamma_{H}H-k_{on}HP+k_{off}C$\n",
        "\n",
        "\n",
        "\n",
        "##Initial and boundary conditions\n",
        "\n",
        "At $t=0$, the system is considered at steady state, with no HH. \n",
        "\n",
        "This means that $H = C = 0$\n",
        "\n",
        "The equations become : \n",
        "\n",
        "$0=\\alpha_{PTC}-\\gamma_{P} P_0$\n",
        "\n",
        "\n",
        "$0=\\alpha_{R} \\dfrac{P^{n_{P}}}{K^{n_{P}}+P^{n_{P}}}-\\gamma_{R}R_0$\n",
        "\n",
        "\\\\\n",
        "\n",
        "The last equation has no steady state, as S continuously increases with a minimum rate of $\\alpha_{GBS,0}$\n",
        "\n",
        "$\\dfrac{\\delta S}{\\delta t}=\\alpha_{GBS,0}+\\alpha_{GBS}*\\varphi_{R}$ \n",
        "\n",
        "\n"
      ]
    },
    {
      "metadata": {
        "id": "1fRhTgYLFCm9",
        "colab_type": "code",
        "colab": {}
      },
      "cell_type": "code",
      "source": [
        "#paramètres\n",
        "ap=0.024 #alpha ptc free PTCH production rate\n",
        "gp=0.006 #gamma p free PTCH degradation rate\n",
        "gc=0.1539 #gamma c HH-PTCH degratdation rate constant \n",
        "Kh=2.2771 #HH-PTCH complex dissociation constant\n",
        "koffc=0.3018 #HH-PTCH complex dissociation rate constant\n",
        "Np=0.9 #Hill coefficient for PTCH control of GLIR production\n",
        "ar=0.3908 #alpha R GLIR production rate constant\n",
        "gr=0.002 #gamma R GLIR degradation rate constant\n",
        "Kr=8.5184 #Hill constant for GLIR control of signal production\n",
        "nr=1.5735 #Hill coefficient for GLIR control of signal production\n",
        "ag=0.0056881 #GLIR-dependent signal production rate constant\n",
        "ag0=0.000098715 #Basal signal production rate constant\n",
        "D=58.3931 #Free HH diffusion constant\n",
        "gh=0.00081346 #Free HH degradation rate constant\n",
        "Kp=0.5660 #Hill constant for PTCH control of GLIR production\n",
        "ah=0.5431 #HH flux into receiver field at 100% sender strength\n",
        "\n",
        "\n",
        "konhp=koffc/Kh #HH-PTCH complex association rate constant\n",
        "P0=ap/gp\n",
        "\n",
        "  \n",
        "\n",
        "dt=0.008\n",
        "dx=1\n",
        "nx=300\n",
        "nt=100000\n",
        "x=np.linspace(1,nx,nx,dtype=int)\n",
        "t=np.linspace(1,nt,nt,dtype=int)\n",
        "x2=np.linspace(0,nx+1,nx+2,dtype=int)\n",
        "\n",
        "#initialisation de H, P, C, S et R  \n",
        "H=np.zeros((nt+1, nx+2))\n",
        "P=np.zeros((nt+1, nx+2))\n",
        "C=np.zeros((nt+1, nx+2))\n",
        "S=np.zeros((nt+1, nx+2))\n",
        "R=np.zeros((nt+1, nx+2))\n",
        "\n",
        "\n",
        "\n",
        "\n",
        "  "
      ],
      "execution_count": 0,
      "outputs": []
    },
    {
      "metadata": {
        "id": "zGG7J1x27vZ2",
        "colab_type": "code",
        "outputId": "931847b7-f103-403c-bf4a-0691024e18b8",
        "colab": {
          "base_uri": "https://localhost:8080/",
          "height": 376
        }
      },
      "cell_type": "code",
      "source": [
        "for i in x2:\n",
        "  P[0][i]=P0\n",
        "  R[0][i]=(ar/gr)*((P0**Np)/(Kp**Np+P0**Np))\n",
        "\n",
        "for a in [0.25*ah,0.5*ah,0.75*ah,ah]:\n",
        "  \n",
        "  for i in t:\n",
        "    #implémentation de H selon l'équation de diffusion \"complète\"\n",
        "    H[i][0]=H[i-1][0]+dt*((D/dx)*((H[i-1][1]-H[i-1][0])/dx+a/D)-gh*H[i-1][0]-konhp*H[i-1][0]*P[i-1][0]+koffc*C[i-1][0])\n",
        "    for j in x:\n",
        "      H[i][j]=H[i-1][j]+dt*((D/(dx**2))*(H[i-1][j-1]-2*H[i-1][j]+H[i-1][j+1])-gh*H[i-1][j]-konhp*H[i-1][j]*P[i-1][j]-koffc*C[i-1][j])\n",
        "    for j in x2:\n",
        "      P[i][j]=P[i-1][j]+dt*(ap-gp*P[i-1][j]-konhp*H[i-1][j]*P[i-1][j]+koffc*C[i-1][j])\n",
        "      C[i][j]=C[i-1][j]+dt*(konhp*H[i-1][j]*P[i-1][j]-koffc*C[i-1][j]+gc*C[i-1][j])\n",
        "      R[i][j]=R[i-1][j]+dt*(ar*(((P[i-1][j])**Np)/(Kp**Np+(P[i-1][j])**Np))-gr*R[i-1][j])\n",
        "      S[i][j]=S[i-1][j]+dt*(ag0+ag*((Kr**nr)/(Kr**nr+(R[i-1][j])**nr)))\n",
        "    \n",
        "  plt.plot(x2,S[nt],label=\"alpha =\"+str(a/ah))\n",
        "\n",
        "plt.xlabel('x (micrometer)')\n",
        "plt.ylabel('S (arbitrary unit)')\n",
        "plt.title('Fluorescence for different values of alphaHH')\n",
        "plt.legend() \n",
        "plt.show()"
      ],
      "execution_count": 0,
      "outputs": [
        {
          "output_type": "display_data",
          "data": {
            "image/png": "[encoded data removed]",
            "text/plain": [
              "<matplotlib.figure.Figure at 0x7fa0e3b00cd0>"
            ]
          },
          "metadata": {
            "tags": []
          }
        }
      ]
    },
    {
      "metadata": {
        "id": "WE2z8CMlHtT5",
        "colab_type": "code",
        "outputId": "854275a9-54c5-4271-e783-5ec802a6befa",
        "colab": {
          "base_uri": "https://localhost:8080/",
          "height": 364
        }
      },
      "cell_type": "code",
      "source": [
        "x=np.linspace(1,nx+2,nx+2)\n",
        "plt.plot(x,S[600],label=\"6\")\n",
        "plt.plot(x,S[700],label=\"7\")\n",
        "plt.plot(x,S[800],label=\"8\")\n",
        "plt.plot(x,S[900],label=\"9\")\n",
        "plt.plot(x,S[1000],label=\"10\")\n",
        "plt.legend()"
      ],
      "execution_count": 0,
      "outputs": [
        {
          "output_type": "execute_result",
          "data": {
            "text/plain": [
              "<matplotlib.legend.Legend at 0x7fa0e38c45d0>"
            ]
          },
          "metadata": {
            "tags": []
          },
          "execution_count": 57
        },
        {
          "output_type": "display_data",
          "data": {
            "image/png": "[encoded data removed]",
            "text/plain": [
              "<matplotlib.figure.Figure at 0x7fa0e3c26750>"
            ]
          },
          "metadata": {
            "tags": []
          }
        }
      ]
    },
    {
      "metadata": {
        "id": "4e3khGBuH0EW",
        "colab_type": "code",
        "outputId": "e448a6e8-84a6-484f-dd26-ad5386b600bb",
        "colab": {
          "base_uri": "https://localhost:8080/",
          "height": 68
        }
      },
      "cell_type": "code",
      "source": [
        "po=ap/gp\n",
        "print po\n",
        "ro=ar*(po**Np)/(gr*(Kp**Np+po**Np))\n",
        "print ro\n",
        "print (ag/ag0-1)**(1/nr)*Kr"
      ],
      "execution_count": 0,
      "outputs": [
        {
          "output_type": "stream",
          "text": [
            "4.0\n",
            "166.71496515\n",
            "110.770157651\n"
          ],
          "name": "stdout"
        }
      ]
    },
    {
      "metadata": {
        "id": "KaYpSneqydB5",
        "colab_type": "code",
        "colab": {}
      },
      "cell_type": "code",
      "source": [
        "#ici \n",
        "import numpy as np\n",
        "import matplotlib.pyplot as plt\n",
        "\n",
        "\n",
        "#paramètres\n",
        "ap=0.024 #alpha ptc free PTCH production rate\n",
        "gp=0.006 #gamma p free PTCH degradation rate\n",
        "gc=0.1539 #gamma c HH-PTCH degratdation rate constant \n",
        "koffc=0.3018 #HH-PTCH complex dissociation rate constant\n",
        "Np=0.9 #Hill coefficient for PTCH control of GLIR production\n",
        "ar=0.3908 #alpha R GLIR production rate constant\n",
        "gr=0.002 #gamma R GLIR degradation rate constant\n",
        "Kr=8.5184 #Hill constant for GLIR control of signal production\n",
        "nr=1.5735 #Hill coefficient for GLIR control of signal production\n",
        "ag=0.0056881 #GLIR-dependent signal production rate constant\n",
        "ag0=0.000098715 #Basal signal production rate constant\n",
        "D=58.3931 #Free HH diffusion constant\n",
        "gh=0.00081346 #Free HH degradation rate constant\n",
        "konhp=0.3018 #HH-PTCH complex association rate constant\n",
        "Kp=0.5660 #Hill constant for PTCH control of GLIR production\n",
        "\n",
        "H0=1\n",
        "dt=1\n",
        "dx=1\n",
        "nx=1000\n",
        "nt=1000\n",
        "x=np.linspace(1,nx,nx,dtype=int)\n",
        "t=np.linspace(1,nt,nt,dtype=int)\n",
        "  \n",
        "H=np.zeros((nt+1,nx+2))\n",
        "P=np.zeros((nt+1, nx+2))\n",
        "C=np.zeros((nt+1, nx+2))\n",
        "S=np.zeros((nt+1, nx+2))\n",
        "R=np.zeros((nt+1, nx+2))\n",
        "\n",
        "H[0][0]=H0\n",
        "\n",
        "\n",
        "  \n",
        "for i in t:\n",
        "  H[i][0]=H0\n",
        "  for j in x:\n",
        "    H[i][j]=H[i-1][j]+dt*((D/dx)*(H[i-1][j-1]-2*H[i-1][j]+H[i-1][j+1])-gh*H[i-1][j]-konhp*H[i-1][j]*P[i-1][j]+koffc*C[i-1][j])\n",
        "    P[i][j]=P[i-1][j]+dt*(ap-gp*P[i-1][j]-konhp*H[i-1][j]*P[i-1][j]+koffc*C[i-1][j])\n",
        "    C[i][j]=C[i-1][j]+dt*(konhp*H[i-1][j]*P[i-1][j]-koffc*C[i-1][j]-gc*C[i-1][j])\n",
        "    R[i][j]=R[i-1][j]+dt*(ar*(((P[i-1][j])**Np)/(Kp**Np+(P[i-1][j])**Np))-gr*R[i-1][j])\n",
        "    S[i][j]=S[i-1][j]+dt*(ag0+ag*((Kr**nr)/(Kr**nr+(R[i-1][j])**nr)))\n",
        "    \n",
        "  \n",
        "  \n",
        "x=np.linspace(1,nx+2,nx+2)\n",
        "\n",
        "#plt.plot(x,S[1])\n",
        "#plt.plot(x,S[100])\n",
        "plt.plot(x,H[50])"
      ],
      "execution_count": 0,
      "outputs": []
    },
    {
      "metadata": {
        "id": "O3egU2zbUiRU",
        "colab_type": "code",
        "outputId": "419f6a14-02a8-46bb-92e5-6e31fb327238",
        "colab": {
          "base_uri": "https://localhost:8080/",
          "height": 358
        }
      },
      "cell_type": "code",
      "source": [
        "for i in x2:\n",
        "  P[0][i]=P0\n",
        "  R[0][i]=(ar/gr)*((P0**Np)/(Kp**Np+P0**Np))\n",
        "\n",
        "for a in [0.25*ah,0.5*ah,0.75*ah,ah]:\n",
        "  \n",
        "  for i in t:\n",
        "    H[i][0]=H[i-1][0]+dt*((D/dx)*((H[i-1][1]-H[i-1][0])/dx+a/D)-gh*H[i-1][0]-konhp*H[i-1][0]*P[i-1][0]+koffc*C[i-1][0])\n",
        "    for j in x:\n",
        "      H[i][j]=H[i-1][j]+dt*((D/(dx**2))*(H[i-1][j-1]-2*H[i-1][j]+H[i-1][j+1])-gh*H[i-1][j]-konhp*H[i-1][j]*P[i-1][j]+koffc*C[i-1][j])\n",
        "    for j in x2:\n",
        "      P[i][j]=P[i-1][j]+dt*(ap-gp*P[i-1][j]-konhp*H[i-1][j]*P[i-1][j]+koffc*C[i-1][j])\n",
        "      C[i][j]=C[i-1][j]+dt*(konhp*H[i-1][j]*P[i-1][j]-koffc*C[i-1][j]-gc*C[i-1][j])\n",
        "      R[i][j]=R[i-1][j]+dt*(ar*(((P[i-1][j])**Np)/(Kp**Np+(P[i-1][j])**Np))-gr*R[i-1][j])\n",
        "      S[i][j]=S[i-1][j]+dt*(ag0+ag*((Kr**nr)/(Kr**nr+(R[i-1][j])**nr)))\n",
        "    \n",
        "  plt.plot(x2,S[nt],label=str(4*a/ah))\n",
        "\n",
        "plt.legend()\n",
        "plt.show()\n",
        "\n",
        "  "
      ],
      "execution_count": 0,
      "outputs": [
        {
          "output_type": "display_data",
          "data": {
            "image/png": "[encoded data removed]",
            "text/plain": [
              "<matplotlib.figure.Figure at 0x7fa0e3a255d0>"
            ]
          },
          "metadata": {
            "tags": []
          }
        }
      ]
    },
    {
      "metadata": {
        "id": "vPulDhyu6mDf",
        "colab_type": "code",
        "outputId": "b9180387-5c20-46cf-c46a-f369479d1adc",
        "colab": {
          "base_uri": "https://localhost:8080/",
          "height": 347
        }
      },
      "cell_type": "code",
      "source": [
        "##equation de diffusion\n",
        "\n",
        "import numpy as np\n",
        "import matplotlib.pyplot as plt\n",
        "\n",
        "\n",
        "#paramètres\n",
        "ap=0.024 #alpha ptc free PTCH production rate\n",
        "gp=0.006 #gamma p free PTCH degradation rate\n",
        "gc=0.1539 #gamma c HH-PTCH degratdation rate constant \n",
        "koffc=0.3018 #HH-PTCH complex dissociation rate constant\n",
        "Np=0.9 #Hill coefficient for PTCH control of GLIR production\n",
        "ar=0.3908 #alpha R GLIR production rate constant\n",
        "gr=0.002 #gamma R GLIR degradation rate constant\n",
        "Kr=8.5184 #Hill constant for GLIR control of signal production\n",
        "nr=1.5735 #Hill coefficient for GLIR control of signal production\n",
        "ag=0.0056881 #GLIR-dependent signal production rate constant\n",
        "ag0=0.000098715 #Basal signal production rate constant\n",
        "D=58.3931 #Free HH diffusion constant\n",
        "gh=0.00081346 #Free HH degradation rate constant\n",
        "Kp=0.5660 #Hill constant for PTCH control of GLIR production\n",
        "ah=0.5431 #HH flux into receiver field at 100% sender strength\n",
        "Kh=2.2771 #HH-PTCH complex dissociation constant\n",
        "\n",
        "konhp=koffc/Kh #HH-PTCH complex association rate constant\n",
        "P0=ap/gp\n",
        "\n",
        "dt=0.001\n",
        "dx=1\n",
        "nx=200\n",
        "nt=10000\n",
        "x=np.linspace(1,nx,nx,dtype=int)\n",
        "t=np.linspace(1,nt,nt,dtype=int)\n",
        "x2=np.linspace(1,nx+2,nx+2)\n",
        "  \n",
        "H=np.zeros((nt+1,nx+2))\n",
        "P=np.zeros((nt+1, nx+2))\n",
        "C=np.zeros((nt+1, nx+2))\n",
        "S=np.zeros((nt+1, nx+2))\n",
        "R=np.zeros((nt+1, nx+2))\n",
        "\n",
        "for i in np.linspace(1,nx+2,nx+2,dtype=int):\n",
        "  P[0][i-1]=P0\n",
        "  R[0][i-1]=(ar/gr)*((P0**Np)/(Kp**Np+P0**Np))\n",
        "\n",
        "for a in [0.25*ah,0.5*ah,0.75*ah,ah]:\n",
        "  \n",
        "  for i in t:\n",
        "    H[i][0]=H[i-1][0]+dt*((D/dx)*((H[i-1][1]-H[i-1][0])/dx+ah/D)-gh*H[i-1][0]-konhp*H[i-1][0]*P[i-1][0]+koffc*C[i-1][0])\n",
        "\n",
        "    for j in x:\n",
        "      H[i][j]=H[i-1][j]+dt*((D/dx**2)*(H[i-1][j-1]-2*H[i-1][j]+H[i-1][j+1])-gh*H[i-1][j]-konhp*H[i-1][j]*P[i-1][j]+koffc*C[i-1][j])\n",
        "      P[i][j]=P[i-1][j]+dt*(ap-gp*P[i-1][j]-konhp*H[i-1][j]*P[i-1][j]+koffc*C[i-1][j])\n",
        "      C[i][j]=C[i-1][j]+dt*(konhp*H[i-1][j]*P[i-1][j]-koffc*C[i-1][j]-gc*C[i-1][j])\n",
        "      R[i][j]=R[i-1][j]+dt*(ar*(((P[i-1][j])**Np)/(Kp**Np+(P[i-1][j])**Np))-gr*R[i-1][j])\n",
        "      S[i][j]=S[i-1][j]+dt*(ag0+ag*((Kr**nr)/(Kr**nr+(R[i-1][j])**nr)))\n",
        "    \n",
        "  plt.plot(x2,H[nt],label=str(4*a/ah))\n",
        "\n",
        "plt.legend()\n",
        "plt.show()"
      ],
      "execution_count": 0,
      "outputs": [
        {
          "output_type": "display_data",
          "data": {
            "image/png": "[encoded data removed]",
            "text/plain": [
              "<matplotlib.figure.Figure at 0x7fa0e64737d0>"
            ]
          },
          "metadata": {
            "tags": []
          }
        }
      ]
    },
    {
      "metadata": {
        "id": "O9c3oKKyyMqB",
        "colab_type": "text"
      },
      "cell_type": "markdown",
      "source": [
        "P derivative"
      ]
    },
    {
      "metadata": {
        "id": "u8FaCThisztH",
        "colab_type": "code",
        "outputId": "5ba14b0d-c2b9-4812-cd44-79bfd57da151",
        "colab": {
          "base_uri": "https://localhost:8080/",
          "height": 130
        }
      },
      "cell_type": "code",
      "source": [
        "##equation de diffusion\n",
        "\n",
        "import numpy as np\n",
        "import matplotlib.pyplot as plt\n",
        "\n",
        "\n",
        "#paramètres\n",
        "ap=0.024 #alpha ptc free PTCH production rate\n",
        "gp=0.006 #gamma p free PTCH degradation rate\n",
        "gc=0.1539 #gamma c HH-PTCH degratdation rate constant \n",
        "Kh=2.2771 #HH-PTCH complex dissociation constant\n",
        "koffc=0.3018 #HH-PTCH complex dissociation rate constant\n",
        "Np=0.9 #Hill coefficient for PTCH control of GLIR production\n",
        "ar=0.3908 #alpha R GLIR production rate constant\n",
        "gr=0.002 #gamma R GLIR degradation rate constant\n",
        "Kr=8.5184 #Hill constant for GLIR control of signal production\n",
        "nr=1.5735 #Hill coefficient for GLIR control of signal production\n",
        "ag=0.0056881 #GLIR-dependent signal production rate constant\n",
        "ag0=0.000098715 #Basal signal production rate constant\n",
        "D=58.3931 #Free HH diffusion constant\n",
        "gh=0.00081346 #Free HH degradation rate constant\n",
        "Kp=0.5660 #Hill constant for PTCH control of GLIR production\n",
        "ah=0.5431 #HH flux into receiver field at 100% sender strength\n",
        "\n",
        "\n",
        "konhp=koffc/Kh #HH-PTCH complex association rate constant\n",
        "P0=ap/gp\n",
        "\n",
        "dt=0.1\n",
        "dx=10\n",
        "nx=30\n",
        "nt=10000\n",
        "x=np.linspace(1,nx,nx,dtype=int)\n",
        "t=np.linspace(1,nt,nt,dtype=int)\n",
        "x2=np.linspace(0,nx+1,nx+2,dtype=int)\n",
        "lscale=[]\n",
        "amp=[]\n",
        "  \n",
        "H=np.zeros((nt+1,nx+2))\n",
        "P=np.zeros((nt+1, nx+2))\n",
        "C=np.zeros((nt+1, nx+2))\n",
        "S=np.zeros((nt+1, nx+2))\n",
        "R=np.zeros((nt+1, nx+2))\n",
        "\n",
        "for i in x2:\n",
        "  P[0][i]=P0\n",
        "  R[0][i]=(ar/gr)*((P0**Np)/(Kp**Np+P0**Np))\n",
        "\n",
        "for app in [0.25*ap,0.5*ap,0.75*ap,ap]:\n",
        "  for ahh in [0.25*ah,0.5*ah,0.75*ah,ah]:\n",
        "\n",
        "    for i in t:\n",
        "              H[i][0]=H[i-1][0]+dt*((D/dx)*((H[i-1][1]-H[i-1][0])/dx+ahh/D)-gh*H[i-1][0]-konhp*H[i-1][0]*P[i-1][0]+koffc*C[i-1][0])\n",
        "              for j in x:\n",
        "                H[i][j]=H[i-1][j]+dt*((D/(dx**2))*(H[i-1][j-1]-2*H[i-1][j]+H[i-1][j+1])-gh*H[i-1][j]-konhp*H[i-1][j]*P[i-1][j]+koffc*C[i-1][j])\n",
        "              for j in x2:\n",
        "                P[i][j]=P[i-1][j]+dt*(ap-gp*P[i-1][j]-konhp*H[i-1][j]*P[i-1][j]+koffc*C[i-1][j])\n",
        "                C[i][j]=C[i-1][j]+dt*(konhp*H[i-1][j]*P[i-1][j]-koffc*C[i-1][j]-gc*C[i-1][j])\n",
        "                R[i][j]=R[i-1][j]+dt*(ar*(((P[i-1][j])**Np)/(Kp**Np+(P[i-1][j])**Np))-gr*R[i-1][j])\n",
        "                S[i][j]=S[i-1][j]+dt*(ag0+ag*((Kr**nr)/(Kr**nr+(R[i-1][j])**nr)))\n",
        "            lscale.append(np.argmin((S[nt]-np.linspace(S[nt][nx],S[nt][nx],nx+2)-(S[nt][0]-S[nt][nx])/np.exp(1))**2.))\n",
        "            amp.append(S[nt][0]-S[nt][nx])\n",
        "            plt.plot(x2,S[nt],label=\"alpha =\"+str(ahh/ah))          \n",
        "\n",
        "\n",
        "plt.xlabel('x (10*micrometer)')\n",
        "plt.ylabel('H (nM)')\n",
        "plt.title('Concentration of HH at different times')\n",
        "plt.legend() \n",
        "plt.show()\n",
        "\n",
        "print lscale\n",
        "print amp\n"
      ],
      "execution_count": 0,
      "outputs": [
        {
          "output_type": "error",
          "ename": "IndentationError",
          "evalue": "ignored",
          "traceback": [
            "\u001b[0;36m  File \u001b[0;32m\"<ipython-input-3-47b9266db8bf>\"\u001b[0;36m, line \u001b[0;32m60\u001b[0m\n\u001b[0;31m    lscale.append(np.argmin((S[nt]-np.linspace(S[nt][nx],S[nt][nx],nx+2)-(S[nt][0]-S[nt][nx])/np.exp(1))**2.))\u001b[0m\n\u001b[0m                                                                                                              ^\u001b[0m\n\u001b[0;31mIndentationError\u001b[0m\u001b[0;31m:\u001b[0m unindent does not match any outer indentation level\n"
          ]
        }
      ]
    }
  ]
}