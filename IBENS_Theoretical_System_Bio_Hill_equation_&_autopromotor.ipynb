{
  "nbformat": 4,
  "nbformat_minor": 0,
  "metadata": {
    "colab": {
      "name": "IBENS - Theoretical System Bio - Hill equation & autopromotor",
      "version": "0.3.2",
      "provenance": [],
      "include_colab_link": true
    },
    "kernelspec": {
      "name": "python2",
      "display_name": "Python 2"
    }
  },
  "cells": [
    {
      "cell_type": "markdown",
      "metadata": {
        "id": "view-in-github",
        "colab_type": "text"
      },
      "source": [
        "<a href=\"https://colab.research.google.com/github/francoisjaulin/Hill_functions/blob/master/IBENS_Theoretical_System_Bio_Hill_equation_&_autopromotor.ipynb\" target=\"_parent\"><img src=\"https://colab.research.google.com/assets/colab-badge.svg\" alt=\"Open In Colab\"/></a>"
      ]
    },
    {
      "metadata": {
        "id": "bkCzsyTGHdAN",
        "colab_type": "text"
      },
      "cell_type": "markdown",
      "source": [
        "Packages Importation"
      ]
    },
    {
      "metadata": {
        "id": "3X22lBJfHdZp",
        "colab_type": "code",
        "colab": {}
      },
      "cell_type": "code",
      "source": [
        "import matplotlib\n",
        "import matplotlib.pyplot as plt\n",
        "import numpy as np"
      ],
      "execution_count": 0,
      "outputs": []
    },
    {
      "metadata": {
        "id": "77VNyLGoIgVU",
        "colab_type": "text"
      },
      "cell_type": "markdown",
      "source": [
        "Definition of a Hill function\n",
        "A : concentration"
      ]
    },
    {
      "metadata": {
        "id": "t-9dF9lnIoLO",
        "colab_type": "code",
        "colab": {
          "base_uri": "https://localhost:8080/",
          "height": 51
        },
        "outputId": "c525dde9-44f9-488a-b4b7-cbaa6c6bd64e"
      },
      "cell_type": "code",
      "source": [
        "def hill(A):\n",
        "  h=2.0\n",
        "  A0=10\n",
        "  theta = A**h/(A0**h + A**h)\n",
        "  return theta\n",
        "\n",
        "print\"Hill function of concentration 1 =\", hill(1)\n",
        "print\"Hill function of concentration 100 = %.3f\" % hill(100)"
      ],
      "execution_count": 8,
      "outputs": [
        {
          "output_type": "stream",
          "text": [
            "Hill function of concentration 1 = 0.00990099009901\n",
            "Hill function of concentration 100 = 0.990\n"
          ],
          "name": "stdout"
        }
      ]
    },
    {
      "metadata": {
        "id": "rPTQnK0_KL2c",
        "colab_type": "code",
        "colab": {
          "base_uri": "https://localhost:8080/",
          "height": 294
        },
        "outputId": "511aef57-b02d-46e7-ba6d-1bb68bdc34db"
      },
      "cell_type": "code",
      "source": [
        "concentrations= np.linspace(0,100,1000) #1000 euqally-spaced values between 0 and 100\n",
        "thetas=hill(concentrations)\n",
        "\n",
        "\n",
        "plt.figure(figsize=(4,4))\n",
        "plt.plot(concentrations, thetas)\n",
        "plt.xlabel('concentration A')\n",
        "plt.ylabel('$\\\\theta$')\n",
        "plt.axhline([0], color='black', linestyle='--')\n",
        "plt.title('Hill functions')\n",
        "plt.show()"
      ],
      "execution_count": 39,
      "outputs": [
        {
          "output_type": "display_data",
          "data": {
            "image/png": "[encoded data removed]",
            "text/plain": [
              "<matplotlib.figure.Figure at 0x7f3705dcee50>"
            ]
          },
          "metadata": {
            "tags": []
          }
        }
      ]
    },
    {
      "metadata": {
        "id": "4u34vW3WNFan",
        "colab_type": "text"
      },
      "cell_type": "markdown",
      "source": [
        "At what concentration A_t does the Hill funciton reach $\\theta$=0.75?"
      ]
    },
    {
      "metadata": {
        "id": "AUdlZElWNTL9",
        "colab_type": "code",
        "colab": {
          "base_uri": "https://localhost:8080/",
          "height": 34
        },
        "outputId": "2520e9d2-7ee2-45f6-9fc0-82c3f5a90323"
      },
      "cell_type": "code",
      "source": [
        "best_index = np.argmin((thetas-0.75)**2.)\n",
        "A_t = concentrations[best_index]\n",
        "print(\"with parameters A0=%.1f, h=%.1f, thetas reaches 0.75 for A_t = %.1f\" %(10, 2, A_t))\n"
      ],
      "execution_count": 17,
      "outputs": [
        {
          "output_type": "stream",
          "text": [
            "with parameters A0=10.0, h=2.0, thetas reaches 0.75 for A_t = 17.3\n"
          ],
          "name": "stdout"
        }
      ]
    },
    {
      "metadata": {
        "id": "5EUd2b1NPYBk",
        "colab_type": "text"
      },
      "cell_type": "markdown",
      "source": [
        "Let's define a function find_A_t(theta_0) and outputs the concentration $A_t$ such that theta=theta_0"
      ]
    },
    {
      "metadata": {
        "id": "YDxo5izLQMzQ",
        "colab_type": "code",
        "colab": {
          "base_uri": "https://localhost:8080/",
          "height": 34
        },
        "outputId": "f7cb8d67-e339-4d53-e18a-f7acfffc98df"
      },
      "cell_type": "code",
      "source": [
        "def find_A_t(theta_0):\n",
        "  A_t = concentrations[np.argmin((thetas-theta_0)**2.)]\n",
        "  return A_t\n",
        "find_A_t(0.75)\n",
        "find_A_t(0.9)"
      ],
      "execution_count": 26,
      "outputs": [
        {
          "output_type": "execute_result",
          "data": {
            "text/plain": [
              "30.030030030030034"
            ]
          },
          "metadata": {
            "tags": []
          },
          "execution_count": 26
        }
      ]
    },
    {
      "metadata": {
        "id": "4Kq3-fK6VJBI",
        "colab_type": "code",
        "colab": {
          "base_uri": "https://localhost:8080/",
          "height": 34
        },
        "outputId": "b6a72ba2-258e-47b3-bc83-04c8e54e2ad8"
      },
      "cell_type": "code",
      "source": [
        "print(\"with parameters A0=%.1f, h=%.1f, theta reaches 0.9 for A_t=%.1f\") % (10,2,find_A_t(0.9))"
      ],
      "execution_count": 28,
      "outputs": [
        {
          "output_type": "stream",
          "text": [
            "with parameters A0=10.0, h=2.0, theta reaches 0.9 for A_t=30.0\n"
          ],
          "name": "stdout"
        }
      ]
    },
    {
      "metadata": {
        "id": "OZ4_mRAfZHwh",
        "colab_type": "text"
      },
      "cell_type": "markdown",
      "source": [
        "Let's define a Hill2 Function "
      ]
    },
    {
      "metadata": {
        "id": "GSEaoekLZNFA",
        "colab_type": "code",
        "colab": {}
      },
      "cell_type": "code",
      "source": [
        "def hill_2(A, h, A0):\n",
        "  theta= A**h /(A0**h + A**h)\n",
        "  return theta\n",
        "\n",
        "\n",
        "def find_A_t_2(theta_0, h, A0):\n",
        "  concentrations =np.linspace(0, 100, 1000)\n",
        "  thetas=hill_2(concentrations, h, A0)\n",
        "  best_index=np.argmin((thetas-theta_0)**2.)\n",
        "  A_t=concentrations[best_index]\n",
        "  return A_t\n"
      ],
      "execution_count": 0,
      "outputs": []
    },
    {
      "metadata": {
        "id": "sIKw6NrnbVkc",
        "colab_type": "code",
        "colab": {
          "base_uri": "https://localhost:8080/",
          "height": 294
        },
        "outputId": "2b5d4cff-c563-437e-9c61-4fba2c72ca23"
      },
      "cell_type": "code",
      "source": [
        "hs=np.linspace(1, 10, 10)\n",
        "hs\n",
        "A_ts=[]\n",
        "\n",
        "for h in hs:\n",
        "  A_t=find_A_t_2(0.75, h, 10)\n",
        "  A_ts.append(A_t)\n",
        "\n",
        "plt.figure(figsize=(4,4))\n",
        "plt.plot(hs, A_ts)\n",
        "plt.xlabel('h')\n",
        "plt.ylabel('$A_t$')\n",
        "plt.axhline([0], color='black', linestyle='--')\n",
        "plt.title('Hill functions')\n",
        "plt.show()\n"
      ],
      "execution_count": 38,
      "outputs": [
        {
          "output_type": "display_data",
          "data": {
            "image/png": "[encoded data removed]",
            "text/plain": [
              "<matplotlib.figure.Figure at 0x7f3705cc60d0>"
            ]
          },
          "metadata": {
            "tags": []
          }
        }
      ]
    },
    {
      "metadata": {
        "id": "dRn2eoSdhBMH",
        "colab_type": "text"
      },
      "cell_type": "markdown",
      "source": [
        "### **Autopromotor**"
      ]
    },
    {
      "metadata": {
        "id": "Aun0V3gZhMvX",
        "colab_type": "code",
        "colab": {}
      },
      "cell_type": "code",
      "source": [
        "def euler_integrate(f, times, y0):\n",
        "  dt=times[0]-times[1]\n",
        "  sol = np.zeros(len(times))\n",
        "  sol[0]=y0\n",
        "  \n",
        "  for t in range(1, len(times)):\n",
        "    sol[t]=f(sol[t-1])*dt+sol[t-1]\n",
        "  return sol\n",
        "    \n",
        "def dAdt(A):\n",
        "  h=4.0\n",
        "  delta_A=1.0\n",
        "  A0=1.0\n",
        "  r0=0.3\n",
        "  r1=2\n",
        "  dadt=(r0 +r1 *(A/A0)**h)/(1+(A/A0)**h)- delta_A * A\n",
        "  return dadt\n",
        "  \n",
        "A0_1=0.7\n",
        "A0_2=0.9\n",
        "\n",
        "\n",
        "  "
      ],
      "execution_count": 0,
      "outputs": []
    },
    {
      "metadata": {
        "id": "H46Th3KNkvRW",
        "colab_type": "code",
        "colab": {}
      },
      "cell_type": "code",
      "source": [
        "times=np.linspace(1,20,1000)\n",
        "sol1= euler_integrate(dAdt, times, A0_1)\n",
        "sol2= euler_integrate(dAdt, times, A0_2)"
      ],
      "execution_count": 0,
      "outputs": []
    },
    {
      "metadata": {
        "id": "j_Y2m90PlGuO",
        "colab_type": "code",
        "colab": {
          "base_uri": "https://localhost:8080/",
          "height": 293
        },
        "outputId": "5eb45fb0-43bc-4ce1-9b77-5c0697f8102c"
      },
      "cell_type": "code",
      "source": [
        "plt.figure(figsize=(9,4))\n",
        "\n",
        "plt.subplot(121)\n",
        "plt.plot(times, sol1, label='A_0=%.2f' %A0_1)\n",
        "plt.xlabel('time t')\n",
        "plt.ylabel('A(t)')\n",
        "plt.title('First euler Integration')\n",
        "plt.legend\n",
        "\n",
        "plt.subplot(122)\n",
        "plt.plot(times, sol2, label='A_0=%.2f' %A0_2)\n",
        "plt.xlabel('time t')\n",
        "plt.ylabel('A(t)')\n",
        "plt.title('Second euler Integration')\n",
        "plt.legend\n",
        "\n",
        "plt.tight_layout()\n",
        "plt.show()"
      ],
      "execution_count": 50,
      "outputs": [
        {
          "output_type": "display_data",
          "data": {
            "image/png": "[encoded data removed]",
            "text/plain": [
              "<matplotlib.figure.Figure at 0x7f37033fbe50>"
            ]
          },
          "metadata": {
            "tags": []
          }
        }
      ]
    }
  ]
}